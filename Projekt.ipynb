{
  "nbformat": 4,
  "nbformat_minor": 0,
  "metadata": {
    "colab": {
      "provenance": [],
      "authorship_tag": "ABX9TyMAweFma5A+wwUF7xHGQ4Xi",
      "include_colab_link": true
    },
    "kernelspec": {
      "name": "python3",
      "display_name": "Python 3"
    },
    "language_info": {
      "name": "python"
    }
  },
  "cells": [
    {
      "cell_type": "markdown",
      "metadata": {
        "id": "view-in-github",
        "colab_type": "text"
      },
      "source": [
        "<a href=\"https://colab.research.google.com/github/aleksandrast12/PUM_projekt_PZS/blob/main/Projekt.ipynb\" target=\"_parent\"><img src=\"https://colab.research.google.com/assets/colab-badge.svg\" alt=\"Open In Colab\"/></a>"
      ]
    },
    {
      "cell_type": "code",
      "execution_count": null,
      "metadata": {
        "id": "rW3RsgqTuKkH"
      },
      "outputs": [],
      "source": [
        "import pandas as pd\n",
        "import numpy as np\n",
        "from sklearn import preprocessing\n",
        "# y to quality\n",
        "\n",
        "df = pd.read_csv(\"test.csv\")\n",
        "\n",
        "#df.drop_duplicates() - nie obowiazuje gdyz nawet przy jednym powtarzajacym sie elemencie inne cechy rozniace sie moga miec wplyw na ocene jakosci\n",
        "\n",
        "#nie musimy usuwac kolumn\n",
        "columns = ['fixed acidity',\"volatile acidity\",\"citric acid\",\"residual sugar\",\"chlorides\",\"free sulfur dioxide\",\"total sulfur dioxide\",\"density\",\"pH\",\"sulphates\",\"alcohol\",\"quality\"]\n",
        "FeaturesToConvert = ['citric acid','residual sugar','chlorides']\n",
        "for feature in FeaturesToConvert:\n",
        "   df[feature] = df[feature].str.strip('-_')\n",
        "for feature in FeaturesToConvert:\n",
        "  df[feature] = df[feature].astype('float64')\n",
        "for column in columns:\n",
        "   df[column] = df[column].replace({'':np.nan})\n",
        "#df.isna().sum()\n",
        "df['density'] = df['density'].fillna(method='pad')\n",
        "\n",
        "for column in  df[columns]:\n",
        "  df[column]=np.abs(df[column])\n",
        "  Q1 = df[column].quantile(0.25)\n",
        "  Q3 = df[column].quantile(0.75)\n",
        "  IQR = Q3- Q1\n",
        "  df = df.drop(df.loc[df[column] > (Q3 + 1.5 * IQR)].index)\n",
        "  df = df.drop(df.loc[df[column] < (Q1- 1.5 * IQR)].index)\n",
        "\n",
        "scaler = preprocessing.StandardScaler().fit(df)\n",
        "df_scaled = scaler.transform(df[columns])\n",
        "\n",
        "\n",
        "\n",
        "\n",
        "\n",
        "\n",
        "#df.info()\n",
        "#df.head()"
      ]
    }
  ]
}