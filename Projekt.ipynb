{
  "nbformat": 4,
  "nbformat_minor": 0,
  "metadata": {
    "colab": {
      "provenance": [],
      "authorship_tag": "ABX9TyMrUp1ct1AnBBd/d6lEz3qk",
      "include_colab_link": true
    },
    "kernelspec": {
      "name": "python3",
      "display_name": "Python 3"
    },
    "language_info": {
      "name": "python"
    }
  },
  "cells": [
    {
      "cell_type": "markdown",
      "metadata": {
        "id": "view-in-github",
        "colab_type": "text"
      },
      "source": [
        "<a href=\"https://colab.research.google.com/github/aleksandrast12/PUM_projekt_PZS/blob/Ola/Projekt.ipynb\" target=\"_parent\"><img src=\"https://colab.research.google.com/assets/colab-badge.svg\" alt=\"Open In Colab\"/></a>"
      ]
    },
    {
      "cell_type": "code",
      "execution_count": 21,
      "metadata": {
        "colab": {
          "base_uri": "https://localhost:8080/"
        },
        "id": "rW3RsgqTuKkH",
        "outputId": "ea40f28c-8887-4354-d8b5-e6bbf446605c"
      },
      "outputs": [
        {
          "output_type": "execute_result",
          "data": {
            "text/plain": [
              "fixed acidity           0\n",
              "volatile acidity        0\n",
              "citric acid             0\n",
              "residual sugar          0\n",
              "chlorides               0\n",
              "free sulfur dioxide     0\n",
              "total sulfur dioxide    0\n",
              "density                 0\n",
              "pH                      0\n",
              "sulphates               0\n",
              "alcohol                 0\n",
              "quality                 0\n",
              "dtype: int64"
            ]
          },
          "metadata": {},
          "execution_count": 21
        }
      ],
      "source": [
        "import pandas as pd\n",
        "import numpy as np\n",
        "# y to quality\n",
        "\n",
        "df = pd.read_csv(\"test.csv\")\n",
        "\n",
        "#df.drop_duplicates() - nie obowiazuje gdyz nawet przy jednym powtarzajacym sie elemencie inne elementy rozniace sie moga miec wplyw na ocene\n",
        "\n",
        "#nie mujsimy usuwac kolumn\n",
        "columns = [\"fixed acidity\",\"volatile acidity\",\"citric acid\",\"residual sugar\",\"chlorides\",\"free sulfur dioxide\",\"total sulfur dioxide\",\"density\",\"pH\",\"sulphates\",\"alcohol\",\"quality\"]\n",
        "FeaturesToConvert = ['citric acid','residual sugar','chlorides']\n",
        "for feature in FeaturesToConvert:\n",
        "   df[feature] = df[feature].str.strip('-_')\n",
        "for feature in FeaturesToConvert:\n",
        "  df[feature] = df[feature].astype('float64')\n",
        "\n",
        "for feature in FeaturesToConvert:\n",
        "   df[feature] = df[feature].replace({'':np.nan})\n",
        "\n",
        "df['density'] = df['density'].fillna(method='pad')\n",
        "df.isna().sum()\n",
        "\n",
        "#df.info()\n",
        "#df.head()"
      ]
    }
  ]
}